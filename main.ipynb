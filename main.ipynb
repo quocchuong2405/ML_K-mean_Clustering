{
 "metadata": {
  "language_info": {
   "codemirror_mode": {
    "name": "ipython",
    "version": 3
   },
   "file_extension": ".py",
   "mimetype": "text/x-python",
   "name": "python",
   "nbconvert_exporter": "python",
   "pygments_lexer": "ipython3",
   "version": "3.8.3-final"
  },
  "orig_nbformat": 2,
  "kernelspec": {
   "name": "python38332bit8211113b59304295844922d3577ce054",
   "display_name": "Python 3.8.3 32-bit"
  }
 },
 "nbformat": 4,
 "nbformat_minor": 2,
 "cells": [
  {
   "source": [
    "# 1. Data source\n",
    "\n",
    "Data is provided by cafef.vn\n",
    "\n",
    "http://s.cafef.vn/du-lieu/download.chn"
   ],
   "cell_type": "markdown",
   "metadata": {}
  },
  {
   "cell_type": "code",
   "execution_count": 1,
   "metadata": {},
   "outputs": [
    {
     "output_type": "stream",
     "name": "stdout",
     "text": [
      "Using matplotlib backend: TkAgg\n",
      "          <DTYYYYMMDD>  <Open>  <High>  <Low>  <Close>  <Volume>\n",
      "<Ticker>                                                        \n",
      "X20           20201123     6.5     6.5    6.5      6.5       100\n",
      "X20           20201117     6.8     6.8    6.8      6.8       100\n",
      "X20           20201116     6.8     6.8    6.8      6.8       100\n",
      "X20           20201113     6.3     6.3    6.3      6.3      1000\n",
      "X20           20201103     6.3     6.3    6.3      6.3       100\n",
      "          <DTYYYYMMDD>   <Open>   <High>    <Low>  <Close>  <Volume>\n",
      "<Ticker>                                                            \n",
      "AAV           20180629  12.9912  13.1477  12.9129  13.0701    108100\n",
      "AAV           20180628  12.9129  13.1477  12.9129  12.9918    210300\n",
      "AAV           20180627  14.8694  14.8694  12.9129  12.9136    532700\n",
      "AAV           20180626  13.5390  13.5390  12.5216  13.5397    800200\n",
      "AAV           20180625  12.3651  12.3651  12.3651  12.3657    362000\n"
     ]
    }
   ],
   "source": [
    "import numpy as np\n",
    "import pandas as pd\n",
    "%matplotlib auto\n",
    "import matplotlib.pyplot as plt\n",
    "\n",
    "data = pd.read_csv('CafeF.HNX.Upto23.11.2020.csv').set_index('<Ticker>')\n",
    "\n",
    "print(data.head())\n",
    "print(data.tail())"
   ]
  },
  {
   "source": [
    "# 2. Transforming the data\n",
    "\n",
    "First we define the time range\n"
   ],
   "cell_type": "markdown",
   "metadata": {}
  },
  {
   "cell_type": "code",
   "execution_count": 2,
   "metadata": {},
   "outputs": [],
   "source": [
    "data = data[data['<DTYYYYMMDD>'] > 20190101]"
   ]
  },
  {
   "source": [
    "Assume that we are day traders - we would be interested in the daily stock movement. <br>\n",
    "So then, we calculate the daily stock movement."
   ],
   "cell_type": "markdown",
   "metadata": {}
  },
  {
   "cell_type": "code",
   "execution_count": 3,
   "metadata": {},
   "outputs": [],
   "source": [
    "data['Movement'] = data['<Close>'] - data['<Open>']"
   ]
  },
  {
   "source": [
    "Then we group the data by ticker name and have each column as movement of 1 day on the stock market."
   ],
   "cell_type": "markdown",
   "metadata": {}
  },
  {
   "cell_type": "code",
   "execution_count": 4,
   "metadata": {},
   "outputs": [
    {
     "output_type": "stream",
     "name": "stdout",
     "text": [
      "        0       1       2       3       4       5       6       7       8    \\\nAAV -0.0900  0.0000  0.2700 -0.0900  0.0000  0.0000  0.0000  0.0000  0.1800   \nACB -0.2367  1.0654  0.1776 -0.1155 -1.7134  0.2368 -0.0563 -0.0563 -0.0563   \nACM  0.0000  0.0000  0.1000  0.1000  0.1000  0.0000 -0.1000  0.0000  0.0000   \nADC  0.0000  0.0000  0.0000  0.0000  0.0000  0.0000  0.0000  0.0000  0.0000   \nALT  0.0000  0.0000  0.0000  0.0000  0.0000  0.0005  0.0000  0.0000  0.0005   \n\n        9    ...  464  465  466  467  468  469  470  471  472  473  \nAAV -0.2700  ...  0.0  0.0  0.0  0.1 -0.1  0.0  0.0  0.0  0.0  0.0  \nACB  0.5327  ... -0.4  0.1  1.0  0.1 -0.3  1.0  0.0 -0.1  0.0 -0.2  \nACM  0.0000  ...  0.0 -0.1  0.0  0.1  0.1  0.0  0.0 -0.1  0.0  0.0  \nADC  0.0000  ... -1.5  0.0  0.0  2.4  0.0  0.0  0.0  0.0  0.0  3.2  \nALT  0.0000  ...  0.0  0.0  0.0  0.0  0.0 -0.1  0.0  0.0 -0.2  0.0  \n\n[5 rows x 474 columns]\n        0      1      2       3      4       5       6       7    8       9    \\\nVTV  0.0000  0.000  0.000  0.0000  0.000  0.0000  0.0000  0.0000  0.0  0.0000   \nVXB  0.0000  0.000  0.000  0.0000  0.000  0.0000  0.0000  0.0000  0.0  0.0000   \nWCS  0.0032  5.789  0.003  0.0033  0.003  0.0000  5.6513  0.0029  0.0 -0.2724   \nWSS -0.1000  0.200  0.200  0.1000  0.100  0.0000 -0.1000  0.1000  0.0  0.1000   \nX20  0.0000  0.000  0.000  0.0000  0.000  0.0007  0.0007  0.0000  0.0  0.1794   \n\n     ...  464  465  466  467  468  469  470  471  472  473  \nVTV  ... -0.1 -0.2  0.0 -0.1  0.0  0.0  0.0  0.0  0.0  0.0  \nVXB  ...  0.0  0.0  0.0  0.0  0.0  0.0  0.0  0.0  0.0  0.0  \nWCS  ... -0.4  0.0 -1.0 -1.0  0.9  0.0 -0.4  2.9 -0.9 -1.0  \nWSS  ...  0.0  0.0  0.0  0.0  0.1  0.2  0.0  0.0  0.1  0.1  \nX20  ...  0.0  0.0  0.0  0.0  0.0  0.0  0.0  0.0  0.0  0.0  \n\n[5 rows x 474 columns]\n"
     ]
    }
   ],
   "source": [
    "df = data.pivot( columns = '<DTYYYYMMDD>', values='Movement').fillna(0).rename_axis(None)\n",
    "#rename date label with number for visibility\n",
    "df.columns = list(range(0, 474))\n",
    "#remove any stock with all 0 movement\n",
    "df = df[(df.T != 0).any()]\n",
    "\n",
    "print(df.head())\n",
    "print(df.tail())"
   ]
  },
  {
   "source": [
    "# 3. Preprocessing\n",
    "\n",
    "If we plot the daily movement of ACB and ACM we are going to see why we need Preprocessing"
   ],
   "cell_type": "markdown",
   "metadata": {}
  },
  {
   "cell_type": "code",
   "execution_count": 5,
   "metadata": {},
   "outputs": [],
   "source": [
    "df.loc['ACB'].plot(kind='line')\n",
    "df.loc['ACM'].plot(kind='line')\n",
    "\n",
    "plt.xlim(0, 474)\n",
    "plt.legend()\n",
    "plt.show()"
   ]
  },
  {
   "source": [
    "What we can see from these two stocks is that we have different scales between the price movements.\n",
    "\n",
    "This means we need to do a normalization step before we apply k-means clustering. If we don't do this the algorithm would just cluster based on the price of the stock.\n",
    "\n",
    "To do this we're going to use Normalizer() from sklearn.preprocessing, and then we'll check out the new minimum movement value, the maximum, and the mean."
   ],
   "cell_type": "markdown",
   "metadata": {}
  },
  {
   "source": [
    "from sklearn.preprocessing import Normalizer\n",
    "normalizer = Normalizer()\n",
    "\n",
    "new = normalizer.fit_transform(df)\n",
    "\n",
    "print('Ticker ACB')\n",
    "print('Unormalized: ')\n",
    "print('Max:', df.iloc[1].max())\n",
    "print('Min:', df.iloc[1].min())\n",
    "print('Mean:', df.iloc[1].mean())\n",
    "print('Normalized: ')\n",
    "print('Max:', new[1].max())\n",
    "print('Min:', new[1].min())\n",
    "print('Mean:', new[1].mean())"
   ],
   "cell_type": "code",
   "metadata": {},
   "execution_count": 6,
   "outputs": [
    {
     "output_type": "stream",
     "name": "stdout",
     "text": [
      "Ticker ACB\nUnormalized: \nMax: 1.9236999999999984\nMin: -1.9532999999999987\nMean: 0.01298713080168775\nNormalized: \nMax: 0.21008735011530882\nMin: -0.2133199672403352\nMean: 0.0014183250484625922\n"
     ]
    }
   ]
  },
  {
   "source": [
    "Let's now plot out the movements of AAPL and AMZN again and see how they've changed:"
   ],
   "cell_type": "markdown",
   "metadata": {}
  },
  {
   "cell_type": "code",
   "execution_count": null,
   "metadata": {},
   "outputs": [],
   "source": [
    "df.iloc[:, :] = new\n",
    "\n",
    "df.loc['ACB'].plot(kind='line')\n",
    "df.loc['ACM'].plot(kind='line')\n",
    "\n",
    "plt.xlim(0, 474)\n",
    "plt.legend()\n",
    "plt.show()"
   ]
  },
  {
   "source": [
    "# 4. K-means Clustering\n",
    "\n",
    "The K-means algorithm operates as follows:\n",
    "\n",
    "1. a number of \"centroids\" are randomly initialized (the number of hyperparameter of the model), these centroid\n",
    "   match the dimension of the feature set, and can be imagine as a vector into some n-dimensional space\n",
    "2. every sample in the data set is then compared to each of the randomly initialized centroids, to see how far \n",
    "   it is away from the centroid. Since the samples and centroids are vectors, the distance \n",
    "   between a vector v and a centroid u is the vector normal of the difference between the two vectors \n",
    "   ((u1-v1)^2 + (u2-v2)^2 + ....)^(1/2). Each sample is then \"clustered\" with the centroid it is closest to.\n",
    "3. After each sample has been clustered with a specific centroid, each centroid is repositioned, such that it\n",
    "   is the average of all of the samples that have been clustered with it.\n",
    "4. The sample association and centroid repositioning steps are then repeated for some number of iterations\n",
    "\n"
   ],
   "cell_type": "markdown",
   "metadata": {}
  },
  {
   "cell_type": "code",
   "execution_count": 8,
   "metadata": {},
   "outputs": [],
   "source": [
    "from sklearn.cluster import KMeans"
   ]
  },
  {
   "source": [
    "## Finding k - the elbow method\n",
    "\n",
    "A fundamental step for any unsupervised algorithm is to determine the optimal number of clusters into which the data may be clustered. <br>\n",
    "The Elbow Method is one of the most popular methods to determine this optimal value of k."
   ],
   "cell_type": "markdown",
   "metadata": {}
  },
  {
   "cell_type": "code",
   "execution_count": 9,
   "metadata": {},
   "outputs": [],
   "source": [
    "sse = []\n",
    "# iterate k from 1 to 10\n",
    "for k in range(1,10):\n",
    "    kmeans = KMeans(n_clusters = k)\n",
    "    kmeans.fit(df)\n",
    "    sse.append(kmeans.inertia_)\n",
    "\n",
    "# and then plot it\n",
    "plt.plot(range(1,10), sse)\n",
    "plt.title(\"Elbow Curve\")\n",
    "plt.show()\n"
   ]
  },
  {
   "source": [
    "So, let's choose k = 3"
   ],
   "cell_type": "markdown",
   "metadata": {}
  },
  {
   "source": [
    "clusters = KMeans(n_clusters = 3)\n",
    "clusters.fit(df)\n",
    "labels = clusters.labels_\n",
    "\n",
    "companies = df.index\n",
    "\n",
    "# create DataFrame aligning labels & companies\n",
    "dff = pd.DataFrame({'companies': companies, 'labels': labels}).set_index('companies').sort_values(by = ['labels', 'companies'], ascending=True)\n",
    "\n",
    "print(dff)"
   ],
   "cell_type": "code",
   "metadata": {},
   "execution_count": 15,
   "outputs": [
    {
     "output_type": "error",
     "ename": "ValueError",
     "evalue": "could not convert string to float: 'AAV'",
     "traceback": [
      "\u001b[1;31m---------------------------------------------------------------------------\u001b[0m",
      "\u001b[1;31mValueError\u001b[0m                                Traceback (most recent call last)",
      "\u001b[1;32m<ipython-input-15-4b2caee9cf38>\u001b[0m in \u001b[0;36m<module>\u001b[1;34m\u001b[0m\n\u001b[0;32m      1\u001b[0m \u001b[0mclusters\u001b[0m \u001b[1;33m=\u001b[0m \u001b[0mKMeans\u001b[0m\u001b[1;33m(\u001b[0m\u001b[0mn_clusters\u001b[0m \u001b[1;33m=\u001b[0m \u001b[1;36m3\u001b[0m\u001b[1;33m)\u001b[0m\u001b[1;33m\u001b[0m\u001b[1;33m\u001b[0m\u001b[0m\n\u001b[1;32m----> 2\u001b[1;33m \u001b[0mclusters\u001b[0m\u001b[1;33m.\u001b[0m\u001b[0mfit\u001b[0m\u001b[1;33m(\u001b[0m\u001b[0mdf\u001b[0m\u001b[1;33m)\u001b[0m\u001b[1;33m\u001b[0m\u001b[1;33m\u001b[0m\u001b[0m\n\u001b[0m\u001b[0;32m      3\u001b[0m \u001b[0mlabels\u001b[0m \u001b[1;33m=\u001b[0m \u001b[0mclusters\u001b[0m\u001b[1;33m.\u001b[0m\u001b[0mlabels_\u001b[0m\u001b[1;33m\u001b[0m\u001b[1;33m\u001b[0m\u001b[0m\n\u001b[0;32m      4\u001b[0m \u001b[1;33m\u001b[0m\u001b[0m\n\u001b[0;32m      5\u001b[0m \u001b[0mcompanies\u001b[0m \u001b[1;33m=\u001b[0m \u001b[0mdf\u001b[0m\u001b[1;33m.\u001b[0m\u001b[0mindex\u001b[0m\u001b[1;33m\u001b[0m\u001b[1;33m\u001b[0m\u001b[0m\n",
      "\u001b[1;32mE:\\Program Files\\Python\\lib\\site-packages\\sklearn\\cluster\\_kmeans.py\u001b[0m in \u001b[0;36mfit\u001b[1;34m(self, X, y, sample_weight)\u001b[0m\n\u001b[0;32m   1031\u001b[0m                                 \u001b[0mdtype\u001b[0m\u001b[1;33m=\u001b[0m\u001b[1;33m[\u001b[0m\u001b[0mnp\u001b[0m\u001b[1;33m.\u001b[0m\u001b[0mfloat64\u001b[0m\u001b[1;33m,\u001b[0m \u001b[0mnp\u001b[0m\u001b[1;33m.\u001b[0m\u001b[0mfloat32\u001b[0m\u001b[1;33m]\u001b[0m\u001b[1;33m,\u001b[0m\u001b[1;33m\u001b[0m\u001b[1;33m\u001b[0m\u001b[0m\n\u001b[0;32m   1032\u001b[0m                                 \u001b[0morder\u001b[0m\u001b[1;33m=\u001b[0m\u001b[1;34m'C'\u001b[0m\u001b[1;33m,\u001b[0m \u001b[0mcopy\u001b[0m\u001b[1;33m=\u001b[0m\u001b[0mself\u001b[0m\u001b[1;33m.\u001b[0m\u001b[0mcopy_x\u001b[0m\u001b[1;33m,\u001b[0m\u001b[1;33m\u001b[0m\u001b[1;33m\u001b[0m\u001b[0m\n\u001b[1;32m-> 1033\u001b[1;33m                                 accept_large_sparse=False)\n\u001b[0m\u001b[0;32m   1034\u001b[0m \u001b[1;33m\u001b[0m\u001b[0m\n\u001b[0;32m   1035\u001b[0m         \u001b[0mself\u001b[0m\u001b[1;33m.\u001b[0m\u001b[0m_check_params\u001b[0m\u001b[1;33m(\u001b[0m\u001b[0mX\u001b[0m\u001b[1;33m)\u001b[0m\u001b[1;33m\u001b[0m\u001b[1;33m\u001b[0m\u001b[0m\n",
      "\u001b[1;32mE:\\Program Files\\Python\\lib\\site-packages\\sklearn\\base.py\u001b[0m in \u001b[0;36m_validate_data\u001b[1;34m(self, X, y, reset, validate_separately, **check_params)\u001b[0m\n\u001b[0;32m    418\u001b[0m                     \u001b[1;34mf\"requires y to be passed, but the target y is None.\"\u001b[0m\u001b[1;33m\u001b[0m\u001b[1;33m\u001b[0m\u001b[0m\n\u001b[0;32m    419\u001b[0m                 )\n\u001b[1;32m--> 420\u001b[1;33m             \u001b[0mX\u001b[0m \u001b[1;33m=\u001b[0m \u001b[0mcheck_array\u001b[0m\u001b[1;33m(\u001b[0m\u001b[0mX\u001b[0m\u001b[1;33m,\u001b[0m \u001b[1;33m**\u001b[0m\u001b[0mcheck_params\u001b[0m\u001b[1;33m)\u001b[0m\u001b[1;33m\u001b[0m\u001b[1;33m\u001b[0m\u001b[0m\n\u001b[0m\u001b[0;32m    421\u001b[0m             \u001b[0mout\u001b[0m \u001b[1;33m=\u001b[0m \u001b[0mX\u001b[0m\u001b[1;33m\u001b[0m\u001b[1;33m\u001b[0m\u001b[0m\n\u001b[0;32m    422\u001b[0m         \u001b[1;32melse\u001b[0m\u001b[1;33m:\u001b[0m\u001b[1;33m\u001b[0m\u001b[1;33m\u001b[0m\u001b[0m\n",
      "\u001b[1;32mE:\\Program Files\\Python\\lib\\site-packages\\sklearn\\utils\\validation.py\u001b[0m in \u001b[0;36minner_f\u001b[1;34m(*args, **kwargs)\u001b[0m\n\u001b[0;32m     70\u001b[0m                           FutureWarning)\n\u001b[0;32m     71\u001b[0m         \u001b[0mkwargs\u001b[0m\u001b[1;33m.\u001b[0m\u001b[0mupdate\u001b[0m\u001b[1;33m(\u001b[0m\u001b[1;33m{\u001b[0m\u001b[0mk\u001b[0m\u001b[1;33m:\u001b[0m \u001b[0marg\u001b[0m \u001b[1;32mfor\u001b[0m \u001b[0mk\u001b[0m\u001b[1;33m,\u001b[0m \u001b[0marg\u001b[0m \u001b[1;32min\u001b[0m \u001b[0mzip\u001b[0m\u001b[1;33m(\u001b[0m\u001b[0msig\u001b[0m\u001b[1;33m.\u001b[0m\u001b[0mparameters\u001b[0m\u001b[1;33m,\u001b[0m \u001b[0margs\u001b[0m\u001b[1;33m)\u001b[0m\u001b[1;33m}\u001b[0m\u001b[1;33m)\u001b[0m\u001b[1;33m\u001b[0m\u001b[1;33m\u001b[0m\u001b[0m\n\u001b[1;32m---> 72\u001b[1;33m         \u001b[1;32mreturn\u001b[0m \u001b[0mf\u001b[0m\u001b[1;33m(\u001b[0m\u001b[1;33m**\u001b[0m\u001b[0mkwargs\u001b[0m\u001b[1;33m)\u001b[0m\u001b[1;33m\u001b[0m\u001b[1;33m\u001b[0m\u001b[0m\n\u001b[0m\u001b[0;32m     73\u001b[0m     \u001b[1;32mreturn\u001b[0m \u001b[0minner_f\u001b[0m\u001b[1;33m\u001b[0m\u001b[1;33m\u001b[0m\u001b[0m\n\u001b[0;32m     74\u001b[0m \u001b[1;33m\u001b[0m\u001b[0m\n",
      "\u001b[1;32mE:\\Program Files\\Python\\lib\\site-packages\\sklearn\\utils\\validation.py\u001b[0m in \u001b[0;36mcheck_array\u001b[1;34m(array, accept_sparse, accept_large_sparse, dtype, order, copy, force_all_finite, ensure_2d, allow_nd, ensure_min_samples, ensure_min_features, estimator)\u001b[0m\n\u001b[0;32m    596\u001b[0m                     \u001b[0marray\u001b[0m \u001b[1;33m=\u001b[0m \u001b[0marray\u001b[0m\u001b[1;33m.\u001b[0m\u001b[0mastype\u001b[0m\u001b[1;33m(\u001b[0m\u001b[0mdtype\u001b[0m\u001b[1;33m,\u001b[0m \u001b[0mcasting\u001b[0m\u001b[1;33m=\u001b[0m\u001b[1;34m\"unsafe\"\u001b[0m\u001b[1;33m,\u001b[0m \u001b[0mcopy\u001b[0m\u001b[1;33m=\u001b[0m\u001b[1;32mFalse\u001b[0m\u001b[1;33m)\u001b[0m\u001b[1;33m\u001b[0m\u001b[1;33m\u001b[0m\u001b[0m\n\u001b[0;32m    597\u001b[0m                 \u001b[1;32melse\u001b[0m\u001b[1;33m:\u001b[0m\u001b[1;33m\u001b[0m\u001b[1;33m\u001b[0m\u001b[0m\n\u001b[1;32m--> 598\u001b[1;33m                     \u001b[0marray\u001b[0m \u001b[1;33m=\u001b[0m \u001b[0mnp\u001b[0m\u001b[1;33m.\u001b[0m\u001b[0masarray\u001b[0m\u001b[1;33m(\u001b[0m\u001b[0marray\u001b[0m\u001b[1;33m,\u001b[0m \u001b[0morder\u001b[0m\u001b[1;33m=\u001b[0m\u001b[0morder\u001b[0m\u001b[1;33m,\u001b[0m \u001b[0mdtype\u001b[0m\u001b[1;33m=\u001b[0m\u001b[0mdtype\u001b[0m\u001b[1;33m)\u001b[0m\u001b[1;33m\u001b[0m\u001b[1;33m\u001b[0m\u001b[0m\n\u001b[0m\u001b[0;32m    599\u001b[0m             \u001b[1;32mexcept\u001b[0m \u001b[0mComplexWarning\u001b[0m\u001b[1;33m:\u001b[0m\u001b[1;33m\u001b[0m\u001b[1;33m\u001b[0m\u001b[0m\n\u001b[0;32m    600\u001b[0m                 raise ValueError(\"Complex data not supported\\n\"\n",
      "\u001b[1;32mE:\\Program Files\\Python\\lib\\site-packages\\numpy\\core\\_asarray.py\u001b[0m in \u001b[0;36masarray\u001b[1;34m(a, dtype, order)\u001b[0m\n\u001b[0;32m     81\u001b[0m \u001b[1;33m\u001b[0m\u001b[0m\n\u001b[0;32m     82\u001b[0m     \"\"\"\n\u001b[1;32m---> 83\u001b[1;33m     \u001b[1;32mreturn\u001b[0m \u001b[0marray\u001b[0m\u001b[1;33m(\u001b[0m\u001b[0ma\u001b[0m\u001b[1;33m,\u001b[0m \u001b[0mdtype\u001b[0m\u001b[1;33m,\u001b[0m \u001b[0mcopy\u001b[0m\u001b[1;33m=\u001b[0m\u001b[1;32mFalse\u001b[0m\u001b[1;33m,\u001b[0m \u001b[0morder\u001b[0m\u001b[1;33m=\u001b[0m\u001b[0morder\u001b[0m\u001b[1;33m)\u001b[0m\u001b[1;33m\u001b[0m\u001b[1;33m\u001b[0m\u001b[0m\n\u001b[0m\u001b[0;32m     84\u001b[0m \u001b[1;33m\u001b[0m\u001b[0m\n\u001b[0;32m     85\u001b[0m \u001b[1;33m\u001b[0m\u001b[0m\n",
      "\u001b[1;32mE:\\Program Files\\Python\\lib\\site-packages\\pandas\\core\\generic.py\u001b[0m in \u001b[0;36m__array__\u001b[1;34m(self, dtype)\u001b[0m\n\u001b[0;32m   1776\u001b[0m \u001b[1;33m\u001b[0m\u001b[0m\n\u001b[0;32m   1777\u001b[0m     \u001b[1;32mdef\u001b[0m \u001b[0m__array__\u001b[0m\u001b[1;33m(\u001b[0m\u001b[0mself\u001b[0m\u001b[1;33m,\u001b[0m \u001b[0mdtype\u001b[0m\u001b[1;33m=\u001b[0m\u001b[1;32mNone\u001b[0m\u001b[1;33m)\u001b[0m \u001b[1;33m->\u001b[0m \u001b[0mnp\u001b[0m\u001b[1;33m.\u001b[0m\u001b[0mndarray\u001b[0m\u001b[1;33m:\u001b[0m\u001b[1;33m\u001b[0m\u001b[1;33m\u001b[0m\u001b[0m\n\u001b[1;32m-> 1778\u001b[1;33m         \u001b[1;32mreturn\u001b[0m \u001b[0mnp\u001b[0m\u001b[1;33m.\u001b[0m\u001b[0masarray\u001b[0m\u001b[1;33m(\u001b[0m\u001b[0mself\u001b[0m\u001b[1;33m.\u001b[0m\u001b[0m_values\u001b[0m\u001b[1;33m,\u001b[0m \u001b[0mdtype\u001b[0m\u001b[1;33m=\u001b[0m\u001b[0mdtype\u001b[0m\u001b[1;33m)\u001b[0m\u001b[1;33m\u001b[0m\u001b[1;33m\u001b[0m\u001b[0m\n\u001b[0m\u001b[0;32m   1779\u001b[0m \u001b[1;33m\u001b[0m\u001b[0m\n\u001b[0;32m   1780\u001b[0m     \u001b[1;32mdef\u001b[0m \u001b[0m__array_wrap__\u001b[0m\u001b[1;33m(\u001b[0m\u001b[0mself\u001b[0m\u001b[1;33m,\u001b[0m \u001b[0mresult\u001b[0m\u001b[1;33m,\u001b[0m \u001b[0mcontext\u001b[0m\u001b[1;33m=\u001b[0m\u001b[1;32mNone\u001b[0m\u001b[1;33m)\u001b[0m\u001b[1;33m:\u001b[0m\u001b[1;33m\u001b[0m\u001b[1;33m\u001b[0m\u001b[0m\n",
      "\u001b[1;32mE:\\Program Files\\Python\\lib\\site-packages\\numpy\\core\\_asarray.py\u001b[0m in \u001b[0;36masarray\u001b[1;34m(a, dtype, order)\u001b[0m\n\u001b[0;32m     81\u001b[0m \u001b[1;33m\u001b[0m\u001b[0m\n\u001b[0;32m     82\u001b[0m     \"\"\"\n\u001b[1;32m---> 83\u001b[1;33m     \u001b[1;32mreturn\u001b[0m \u001b[0marray\u001b[0m\u001b[1;33m(\u001b[0m\u001b[0ma\u001b[0m\u001b[1;33m,\u001b[0m \u001b[0mdtype\u001b[0m\u001b[1;33m,\u001b[0m \u001b[0mcopy\u001b[0m\u001b[1;33m=\u001b[0m\u001b[1;32mFalse\u001b[0m\u001b[1;33m,\u001b[0m \u001b[0morder\u001b[0m\u001b[1;33m=\u001b[0m\u001b[0morder\u001b[0m\u001b[1;33m)\u001b[0m\u001b[1;33m\u001b[0m\u001b[1;33m\u001b[0m\u001b[0m\n\u001b[0m\u001b[0;32m     84\u001b[0m \u001b[1;33m\u001b[0m\u001b[0m\n\u001b[0;32m     85\u001b[0m \u001b[1;33m\u001b[0m\u001b[0m\n",
      "\u001b[1;31mValueError\u001b[0m: could not convert string to float: 'AAV'"
     ]
    }
   ]
  },
  {
   "source": [
    "# 5. Principal components analysis\n",
    "Using PCA on stocks movement data can help identified key dates"
   ],
   "cell_type": "markdown",
   "metadata": {}
  },
  {
   "cell_type": "code",
   "execution_count": 14,
   "metadata": {},
   "outputs": [
    {
     "output_type": "stream",
     "name": "stdout",
     "text": [
      "(364, 2)\n     labels companies\n292       0       TJC\n184       0       NTH\n40        0       CLM\n79        0       ECI\n180       0       NHP\n..      ...       ...\n165       9       MSC\n344       9       VLA\n272       9       SPP\n173       9       NDN\n73        9       DST\n\n[364 rows x 2 columns]\n"
     ]
    }
   ],
   "source": [
    "from sklearn.decomposition import PCA\n",
    "reduced_data = PCA(n_components = 2 ).fit_transform(df)\n",
    "\n",
    "\n",
    "print(reduced_data.shape)\n",
    "\n",
    "kmeans = KMeans(n_clusters=10)\n",
    "kmeans.fit(reduced_data)\n",
    "labels = kmeans.predict(reduced_data)\n",
    "\n",
    "# create DataFrame aligning labels & companies\n",
    "df = pd.DataFrame({'companies': companies, 'labels': labels})\n",
    "\n",
    "print(df.sort_values(by = ['labels', 'companies'], ascending=True)"
   ]
  },
  {
   "cell_type": "code",
   "execution_count": null,
   "metadata": {},
   "outputs": [],
   "source": []
  }
 ]
}